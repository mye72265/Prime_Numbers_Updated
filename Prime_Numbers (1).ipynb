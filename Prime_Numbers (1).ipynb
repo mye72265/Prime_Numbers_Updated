{
 "cells": [
  {
   "cell_type": "markdown",
   "id": "3e1717bb",
   "metadata": {},
   "source": [
    "### The cell below will tell us the nth position of a prime number"
   ]
  },
  {
   "cell_type": "code",
   "execution_count": 2,
   "id": "9e447fcd",
   "metadata": {},
   "outputs": [
    {
     "name": "stdout",
     "output_type": "stream",
     "text": [
      "67\n",
      "The 67 prime number is: 331\n"
     ]
    }
   ],
   "source": [
    "# goal=int(input(\"Enter a number n, 1-1,000,000 to find the nth prime number.\")) \n",
    "\n",
    "goal = int(input())\n",
    "\n",
    "\n",
    "if goal>1000000:         #closes the program if the number doesn't fit the parameters\n",
    "    exit()\n",
    "if goal==1:              #takes care of the first prime, which is 2\n",
    "    print(\"2\")\n",
    "if goal==2:              #and then the second, which is 3\n",
    "    print(\"3\")\n",
    "\n",
    "chk=5         #the next odd number after 3\n",
    "primes=2    #the number of primes recorded, after counting 2 and 3.\n",
    "x=0         #the last recorded prime number\n",
    "while primes<goal: \n",
    "    if  chk<9:     \n",
    "        primes+=1  \n",
    "        x=chk      \n",
    "        chk+=2     \n",
    "\n",
    "    else:              \n",
    "        odds=3        \n",
    "        sqrtk=chk**.5  #all the way up to the square root of chk\n",
    "\n",
    "        while odds<sqrtk or odds==sqrtk:   \n",
    "            if chk%odds==0:                \n",
    "                chk+=2                     \n",
    "                break                      \n",
    "            else:            \n",
    "                odds+=2         \n",
    "\n",
    "        if odds>sqrtk:                  \n",
    "                primes+=1        \n",
    "                x=chk        \n",
    "                chk+=2        \n",
    "                odds=3         \n",
    "\n",
    "\n",
    "if primes==goal:                  \n",
    "    print(\"The\",goal,\"prime number is:\",x)      #print that prime number\n"
   ]
  },
  {
   "cell_type": "markdown",
   "id": "2509cbca",
   "metadata": {},
   "source": [
    "### Next cell will tell us if a number is prime"
   ]
  },
  {
   "cell_type": "code",
   "execution_count": 3,
   "id": "e9e653ac",
   "metadata": {},
   "outputs": [
    {
     "name": "stdout",
     "output_type": "stream",
     "text": [
      "99\n",
      "False\n"
     ]
    }
   ],
   "source": [
    "# Simple code to check if a number is prime:\n",
    "\n",
    "number = int(input())\n",
    "def is_prime(number):\n",
    "    if number > 1:\n",
    "        for num in range(2, number):\n",
    "            if number % num == 0:\n",
    "                return False\n",
    "        return True\n",
    "    return False\n",
    "\n",
    "print(is_prime(number))"
   ]
  }
 ],
 "metadata": {
  "kernelspec": {
   "display_name": "Python 3 (ipykernel)",
   "language": "python",
   "name": "python3"
  },
  "language_info": {
   "codemirror_mode": {
    "name": "ipython",
    "version": 3
   },
   "file_extension": ".py",
   "mimetype": "text/x-python",
   "name": "python",
   "nbconvert_exporter": "python",
   "pygments_lexer": "ipython3",
   "version": "3.8.11"
  }
 },
 "nbformat": 4,
 "nbformat_minor": 5
}
